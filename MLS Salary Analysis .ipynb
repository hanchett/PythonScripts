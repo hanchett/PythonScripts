{
 "cells": [
  {
   "cell_type": "markdown",
   "metadata": {
    "collapsed": true
   },
   "source": [
    "This script pulls in MLS player salary info for the 2018-2019 season via https://mlsplayers.org/resources/salary-guide"
   ]
  },
  {
   "cell_type": "code",
   "execution_count": 7,
   "metadata": {
    "collapsed": true
   },
   "outputs": [],
   "source": [
    "from bs4 import BeautifulSoup\n",
    "from decimal import Decimal\n",
    "import pandas as pd"
   ]
  },
  {
   "cell_type": "code",
   "execution_count": 4,
   "metadata": {
    "collapsed": true
   },
   "outputs": [],
   "source": [
    "with open(\"MLS_SALARIES.html\") as fp:\n",
    "    soup = BeautifulSoup(fp, 'html.parser')"
   ]
  },
  {
   "cell_type": "code",
   "execution_count": 13,
   "metadata": {
    "collapsed": true
   },
   "outputs": [],
   "source": [
    "def scrape():\n",
    "    teams = {}\n",
    "    players = soup.findAll(\"tr\")\n",
    "    table = pd.DataFrame(columns={'first_name', 'last_name', 'team', 'position', 'base_pay', 'total_pay'})\n",
    "    player_list = []\n",
    "    for player in players[1:]:\n",
    "        attributes = player.findAll(\"td\")\n",
    "        player_list.append({\n",
    "            'first_name': str(attributes[0])[4:-5],\n",
    "            'last_name': str(attributes[1])[4:-5],\n",
    "            'team': str(attributes[2])[4:-5],\n",
    "            'position': str(attributes[3])[4:-5],\n",
    "            'base_pay': Decimal(str(attributes[4])[5:-5].replace(',', '')),\n",
    "            'total_pay': Decimal(str(attributes[5])[5:-5].replace(',', ''))\n",
    "        })\n",
    "    return pd.DataFrame(player_list)"
   ]
  },
  {
   "cell_type": "code",
   "execution_count": 34,
   "metadata": {},
   "outputs": [],
   "source": [
    "full_players = scrape()\n",
    "teams = pd.DataFrame(columns={'team', 'total_base', 'total_comp', 'num_players'})\n",
    "teams.team = full_players.team.unique()"
   ]
  },
  {
   "cell_type": "code",
   "execution_count": 39,
   "metadata": {},
   "outputs": [
    {
     "data": {
      "text/plain": [
       "Series([], Name: total_base, dtype: object)"
      ]
     },
     "execution_count": 39,
     "metadata": {},
     "output_type": "execute_result"
    }
   ],
   "source": [
    "teams.loc[teams['team'] == 'FC Dalllas']['total_base']\n"
   ]
  },
  {
   "cell_type": "code",
   "execution_count": 29,
   "metadata": {},
   "outputs": [
    {
     "ename": "SyntaxError",
     "evalue": "invalid syntax (<ipython-input-29-98b85c856797>, line 1)",
     "output_type": "error",
     "traceback": [
      "\u001b[1;36m  File \u001b[1;32m\"<ipython-input-29-98b85c856797>\"\u001b[1;36m, line \u001b[1;32m1\u001b[0m\n\u001b[1;33m    teams.loc[teams['team'] == player['team']]['base_pay'] += player['base_pay'] for player in full_players\u001b[0m\n\u001b[1;37m                                                                                   ^\u001b[0m\n\u001b[1;31mSyntaxError\u001b[0m\u001b[1;31m:\u001b[0m invalid syntax\n"
     ]
    }
   ],
   "source": [
    "teams.loc[teams['team'] == player['team']]['base_pay'] += player['base_pay'] for player in full_players"
   ]
  },
  {
   "cell_type": "code",
   "execution_count": 41,
   "metadata": {},
   "outputs": [
    {
     "name": "stdout",
     "output_type": "stream",
     "text": [
      "base_pay\n",
      "first_name\n",
      "last_name\n",
      "position\n",
      "team\n",
      "total_pay\n"
     ]
    }
   ],
   "source": [
    "for player in full_players:\n",
    "    print(player)\n",
    "#     teams.loc[teams['team'] == player['team']]['total_base'] += player['base_pay']\n",
    "#     teams.loc[teams['team'] == player['team']]['total_comp'] += player['total_pay']\n",
    "#     teams.loc[teams['team'] == player['team']]['num_players'] += 1"
   ]
  },
  {
   "cell_type": "code",
   "execution_count": 28,
   "metadata": {},
   "outputs": [
    {
     "data": {
      "text/plain": [
       "base_pay                  55650.00\n",
       "first_name                  Adrian\n",
       "last_name                 Zendejas\n",
       "position                        GK\n",
       "team          Sporting Kansas City\n",
       "total_pay                 55650.00\n",
       "Name: 0, dtype: object"
      ]
     },
     "execution_count": 28,
     "metadata": {},
     "output_type": "execute_result"
    }
   ],
   "source": [
    "full_players.iloc[0]"
   ]
  },
  {
   "cell_type": "code",
   "execution_count": null,
   "metadata": {
    "collapsed": true
   },
   "outputs": [],
   "source": []
  }
 ],
 "metadata": {
  "kernelspec": {
   "display_name": "Python [default]",
   "language": "python",
   "name": "python2"
  },
  "language_info": {
   "codemirror_mode": {
    "name": "ipython",
    "version": 2
   },
   "file_extension": ".py",
   "mimetype": "text/x-python",
   "name": "python",
   "nbconvert_exporter": "python",
   "pygments_lexer": "ipython2",
   "version": "2.7.13"
  }
 },
 "nbformat": 4,
 "nbformat_minor": 2
}
